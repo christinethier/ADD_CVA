{
 "cells": [
  {
   "cell_type": "markdown",
   "metadata": {},
   "source": [
    "# Finite difference - optioner"
   ]
  },
  {
   "cell_type": "code",
   "execution_count": 389,
   "metadata": {},
   "outputs": [],
   "source": [
    "import numpy as np\n",
    "import random\n",
    "import math\n",
    "import time\n",
    "from collections import defaultdict"
   ]
  },
  {
   "cell_type": "code",
   "execution_count": 420,
   "metadata": {},
   "outputs": [],
   "source": [
    "S0 = 100\n",
    "K = 100\n",
    "T = 1\n",
    "r = 0.07\n",
    "sigma = 0.2\n",
    "n_simulations = 100000\n",
    "n_steps = 252"
   ]
  },
  {
   "cell_type": "markdown",
   "metadata": {},
   "source": [
    "## Asian option"
   ]
  },
  {
   "cell_type": "markdown",
   "metadata": {},
   "source": [
    "### Finite difference ved Monte Carlo"
   ]
  },
  {
   "cell_type": "code",
   "execution_count": 410,
   "metadata": {},
   "outputs": [],
   "source": [
    "# Finite Difference metoden\n",
    "def finite_difference_MC_asian(S0, K, T, r, sigma, n_simulations, n_steps, h=0.0001):\n",
    "    # Udvikling i prisen på det underliggende aktiv\n",
    "    Z = np.random.normal(0,1,size=(n_simulations, n_steps))\n",
    "    \n",
    "    #Definer prisfunktionen for en Asiatisk option\n",
    "    def MC_Payoff(S0, K, T, r, sigma, n_simulations, n_steps):\n",
    "        dt = T/n_steps\n",
    "        S = np.zeros((n_simulations, n_steps))\n",
    "        S[:,0] += S0\n",
    "        for i in range(1, n_steps):\n",
    "            S[:,i] += S[:,i-1]*np.exp((r-(sigma**2)/2)*dt+sigma*np.sqrt(dt)*Z[:,i])\n",
    "\n",
    "        def Geo_Mean_Overflow(iterable):\n",
    "            temp = np.log(iterable)\n",
    "            return np.exp(temp.mean()) \n",
    "\n",
    "        avg = [Geo_Mean_Overflow(S[i,:]) for i in range(len(S))]\n",
    "\n",
    "        c = [avg[i] - K for i in range(len(avg))]\n",
    "        c = [np.maximum(c[i], 0) for i in range(len(avg))]\n",
    "\n",
    "        payoff_call = np.mean(c)*np.exp(-r*T)\n",
    "    \n",
    "        return payoff_call\n",
    "    \n",
    "    adjoints = defaultdict(int)\n",
    "    \n",
    "    adjoints[\"S_\"] = (MC_Payoff(S0+h, K, T, r, sigma, n_simulations, n_steps) - MC_Payoff(S0, K, T, r, sigma, n_simulations, n_steps)) / h\n",
    "    adjoints[\"K_\"] = (MC_Payoff(S0, K+h, T, r, sigma, n_simulations, n_steps) - MC_Payoff(S0, K, T, r, sigma, n_simulations, n_steps)) / h\n",
    "    adjoints[\"T_\"] = (MC_Payoff(S0, K, T+h, r, sigma, n_simulations, n_steps) - MC_Payoff(S0, K, T, r, sigma, n_simulations, n_steps)) / h\n",
    "    adjoints[\"r_\"] = (MC_Payoff(S0, K, T, r+h, sigma, n_simulations, n_steps) - MC_Payoff(S0, K, T, r, sigma, n_simulations, n_steps)) / h\n",
    "    adjoints[\"sigma_\"] = (MC_Payoff(S0, K, T, r, sigma+h, n_simulations, n_steps) - MC_Payoff(S0, K, T, r, sigma, n_simulations, n_steps)) / h\n",
    "    return adjoints"
   ]
  },
  {
   "cell_type": "code",
   "execution_count": 411,
   "metadata": {},
   "outputs": [
    {
     "name": "stdout",
     "output_type": "stream",
     "text": [
      "defaultdict(<class 'int'>, {'S_': 0.6047984527679517, 'K_': -0.5448350047299044, 'T_': 3.5779297203841764, 'r_': 24.124218841317102, 'sigma_': 18.893485758946227})\n",
      "--- 26.861389875411987 seconds ---\n"
     ]
    }
   ],
   "source": [
    "start_time = time.time()\n",
    "\n",
    "print(finite_difference_MC_asian(S0, K, T, r, sigma, n_simulations, n_steps))\n",
    "\n",
    "print(\"--- %s seconds ---\" % (time.time() - start_time))"
   ]
  },
  {
   "cell_type": "markdown",
   "metadata": {},
   "source": [
    "### Finite difference med Black Scholes formlen "
   ]
  },
  {
   "cell_type": "code",
   "execution_count": 415,
   "metadata": {},
   "outputs": [],
   "source": [
    "def finite_difference_BS(S0, K, T, r, sigma, h):\n",
    "    \n",
    "    def BS_Price_Asian_Options(S0, K, T, r, sigma):\n",
    "    \n",
    "        b = (1/2) * (r - (1/2) * ((sigma / 1.7320508075688772)**2))\n",
    "    \n",
    "        d1 = (np.log(S0 / K) + (b + (1/2) * ((sigma / 1.7320508075688772)**2) ) * T)/ ((sigma / 1.7320508075688772) * np.sqrt(T))\n",
    "    \n",
    "        d2 = d1 - (sigma / 1.7320508075688772)*np.sqrt(T)\n",
    "        p= S0 * np.exp((b - r) * T) * norm.cdf(d1) - K * np.exp(-(1) * r * T) * norm.cdf(d2)\n",
    "    \n",
    "        return p\n",
    "    adjoints = defaultdict(int)\n",
    "    \n",
    "    adjoints[\"S_\"] = (BS_Price_Asian_Options(S0 +h, K, T, r, sigma) - BS_Price_Asian_Options(S0, K, T, r, sigma)) / h\n",
    "    adjoints[\"K_\"] = (BS_Price_Asian_Options(S0 , K+h, T, r, sigma) - BS_Price_Asian_Options(S0, K, T, r, sigma)) / h\n",
    "    adjoints[\"T_\"] = (BS_Price_Asian_Options(S0, K, T+h, r, sigma) - BS_Price_Asian_Options(S0, K, T, r, sigma)) / h\n",
    "    adjoints[\"r_\"] = (BS_Price_Asian_Options(S0 , K, T, r+h, sigma) - BS_Price_Asian_Options(S0, K, T, r, sigma)) / h\n",
    "    adjoints[\"sigma_\"] = (BS_Price_Asian_Options(S0 , K, T, r, sigma+h) - BS_Price_Asian_Options(S0, K, T, r, sigma)) / h\n",
    "    return adjoints"
   ]
  },
  {
   "cell_type": "code",
   "execution_count": 416,
   "metadata": {},
   "outputs": [
    {
     "name": "stdout",
     "output_type": "stream",
     "text": [
      "defaultdict(<class 'int'>, {'S_': 0.6063674649752215, 'K_': -0.5460905548773098, 'T_': 3.5955351920833323, 'r_': 24.312613394428695, 'sigma_': 18.95732800231542})\n",
      "--- 0.0042569637298583984 seconds ---\n"
     ]
    }
   ],
   "source": [
    "start_time = time.time()\n",
    "print(finite_difference_BS(S0, K, T, r, sigma, 0.001))\n",
    "print(\"--- %s seconds ---\" % (time.time() - start_time))"
   ]
  },
  {
   "cell_type": "markdown",
   "metadata": {},
   "source": [
    "## European option"
   ]
  },
  {
   "cell_type": "markdown",
   "metadata": {},
   "source": [
    "### Finite Difference for Monte Carlo"
   ]
  },
  {
   "cell_type": "code",
   "execution_count": 425,
   "metadata": {},
   "outputs": [],
   "source": [
    "def finite_difference_MC_euro(S0, K, T, r, sigma, n_simulations, n_steps, h=0.0001):\n",
    "    # Udvikling i prisen på det underliggende aktiv\n",
    "    Z = np.random.normal(0,1,size=(n_simulations, n_steps))\n",
    " \n",
    "    def Price_European_Option(S0, K, T, r,sigma, n_simulations, n_steps, h):\n",
    "        dt = T/n_steps\n",
    "        S = np.zeros((n_simulations, n_steps))\n",
    "        S[:,0] += S0\n",
    "        for i in range(1, n_steps):\n",
    "            S[:,i] += S[:,i-1]*np.exp((r-(sigma**2)/2)*dt+sigma*np.sqrt(dt)*Z[:,i])\n",
    "        \n",
    "        # Beregning af payoff for call\n",
    "        c = S[:,-1] + h - K\n",
    "        for i in range(len(c)):\n",
    "            c[i] = np.maximum(c[i], 0)\n",
    "\n",
    "        # Gennemsnitligt payoff tilbagediskonteret\n",
    "        payoff_call = np.mean(c)*np.exp(-r*T)\n",
    "   \n",
    "        return payoff_call\n",
    "\n",
    "    adjoints = defaultdict(int)\n",
    "    \n",
    "    adjoints[\"S_\"] = (Price_European_Option(S0 +h, K, T, r, sigma,n_simulations, n_steps, h) - Price_European_Option(S0, K, T, r, sigma,n_simulations, n_steps, h)) / h\n",
    "    adjoints[\"K_\"] = (Price_European_Option(S0 , K+h, T, r, sigma,n_simulations, n_steps, h) - Price_European_Option(S0, K, T, r, sigma,n_simulations, n_steps, h)) / h\n",
    "    adjoints[\"T_\"] = (Price_European_Option(S0, K, T+h, r, sigma,n_simulations, n_steps, h) - Price_European_Option(S0, K, T, r, sigma,n_simulations, n_steps, h)) / h\n",
    "    adjoints[\"r_\"] = (Price_European_Option(S0 , K, T, r+h, sigma,n_simulations, n_steps, h) - Price_European_Option(S0, K, T, r, sigma,n_simulations, n_steps, h)) / h\n",
    "    adjoints[\"sigma_\"] = (Price_European_Option(S0 , K, T, r, sigma+h,n_simulations, n_steps, h) - Price_European_Option(S0, K, T, r, sigma,n_simulations, n_steps, h)) / h\n",
    "    return adjoints\n"
   ]
  },
  {
   "cell_type": "code",
   "execution_count": 426,
   "metadata": {},
   "outputs": [
    {
     "name": "stdout",
     "output_type": "stream",
     "text": [
      "defaultdict(<class 'int'>, {'S_': 0.6725752426461895, 'K_': -0.557850476905486, 'T_': 7.465620650268789, 'r_': 55.521628572705595, 'sigma_': 35.796309436886276})\n",
      "--- 18.751221895217896 seconds ---\n"
     ]
    }
   ],
   "source": [
    "start_time = time.time()\n",
    "\n",
    "print(finite_difference_MC_euro(S0, K, T, r, sigma, n_simulations, n_steps))\n",
    "\n",
    "print(\"--- %s seconds ---\" % (time.time() - start_time))"
   ]
  },
  {
   "cell_type": "code",
   "execution_count": null,
   "metadata": {},
   "outputs": [],
   "source": [
    "def BS_Price_European_Options(S0, K, T, r, sigma): \n",
    "    d1 = (np.log(S0/K)+(r+1/2*(sigma**2))*T)/(sigma*np.sqrt(T))\n",
    "    d2 = d1 - sigma*np.sqrt(T)\n",
    "\n",
    "    euro_call = S0*norm.cdf(d1) - K*np.exp(-r*T)*norm.cdf(d2)\n",
    "    euro_put = K*np.exp(-r*T)*norm.cdf(-d2) - S0*norm.cdf(-d1)\n",
    "    \n",
    "    return euro_call"
   ]
  },
  {
   "cell_type": "code",
   "execution_count": 430,
   "metadata": {},
   "outputs": [],
   "source": [
    "def finite_difference_BS(S0, K, T, r, sigma, h):\n",
    "    \n",
    "    def BS_Price_European_Options(S0, K, T, r, sigma): \n",
    "        d1 = (np.log(S0/K)+(r+1/2*(sigma**2))*T)/(sigma*np.sqrt(T))\n",
    "        d2 = d1 - sigma*np.sqrt(T)\n",
    "\n",
    "        euro_call = S0*norm.cdf(d1) - K*np.exp(-r*T)*norm.cdf(d2)\n",
    "        euro_put = K*np.exp(-r*T)*norm.cdf(-d2) - S0*norm.cdf(-d1)\n",
    "    \n",
    "        return euro_call\n",
    "    \n",
    "    adjoints = defaultdict(int)\n",
    "    \n",
    "    adjoints[\"S_\"] = (BS_Price_European_Options(S0 +h, K, T, r, sigma) - BS_Price_European_Options(S0, K, T, r, sigma)) / h\n",
    "    adjoints[\"K_\"] = (BS_Price_European_Options(S0 , K+h, T, r, sigma) - BS_Price_European_Options(S0, K, T, r, sigma)) / h\n",
    "    adjoints[\"T_\"] = (BS_Price_European_Options(S0, K, T+h, r, sigma) - BS_Price_European_Options(S0, K, T, r, sigma)) / h\n",
    "    adjoints[\"r_\"] = (BS_Price_European_Options(S0 , K, T, r+h, sigma) - BS_Price_European_Options(S0, K, T, r, sigma)) / h\n",
    "    adjoints[\"sigma_\"] = (BS_Price_European_Options(S0 , K, T, r, sigma+h) - BS_Price_European_Options(S0, K, T, r, sigma)) / h\n",
    "    \n",
    "    return adjoints"
   ]
  },
  {
   "cell_type": "code",
   "execution_count": 433,
   "metadata": {},
   "outputs": [
    {
     "name": "stdout",
     "output_type": "stream",
     "text": [
      "defaultdict(<class 'int'>, {'S_': 0.6736537927736208, 'K_': -0.5582210648285013, 'T_': 7.511817785889718, 'r_': 55.88513957093966, 'sigma_': 36.06278151150377})\n",
      "--- 0.0070819854736328125 seconds ---\n"
     ]
    }
   ],
   "source": [
    "start_time = time.time()\n",
    "print(finite_difference_BS(S0, K, T, r, sigma, 0.001))\n",
    "print(\"--- %s seconds ---\" % (time.time() - start_time))"
   ]
  },
  {
   "cell_type": "markdown",
   "metadata": {},
   "source": [
    "## Simple Barrier Up and In"
   ]
  },
  {
   "cell_type": "markdown",
   "metadata": {},
   "source": [
    "### Finite difference ved Monte Carlo"
   ]
  },
  {
   "cell_type": "code",
   "execution_count": 471,
   "metadata": {},
   "outputs": [],
   "source": [
    "S0 = 12.418\n",
    "K = 13.55\n",
    "T = 1/12\n",
    "r = 0.01606\n",
    "sigma = 0.4075\n",
    "n_simulations = 10000000\n",
    "n_steps = 1\n",
    "B=17"
   ]
  },
  {
   "cell_type": "code",
   "execution_count": 472,
   "metadata": {},
   "outputs": [],
   "source": [
    "def finite_difference_MC_Barrier(S0, K, T, r, sigma, B, n_simulations, n_steps, h=0.0001):\n",
    "    # Udvikling i prisen på det underliggende aktiv\n",
    "    timeline = np.arange(0,T,T/n_steps)\n",
    "    Z = np.random.normal(0,1,size=(n_simulations, len(timeline)))\n",
    "    \n",
    "    def Price_Barrier_Option(S0, K, T, r,sigma, B, n_simulations, n_steps, h):\n",
    "        dt = T/n_steps\n",
    "        d1 = r - ( sigma **2) / 2\n",
    "        d2 = d1 * dt + sigma * np.sqrt( dt ) * Z\n",
    "        #S[:,0] += S0\n",
    "        S = np.hstack ([ S0 * np.ones (( n_simulations , 1) ) , np . exp ( d2 ) ]) . cumprod ( axis = 1)\n",
    "\n",
    "        ST = S[:,-1]\n",
    "        P=np.maximum( ST - K, 0)\n",
    "        P = P * 1/(1+np.exp(-K *(ST - B)))\n",
    "        V = np.mean(np.exp ( - r * T ) * P)\n",
    "         \n",
    "        return V\n",
    "    print(Price_Barrier_Option(S0, K, T, r,sigma, B, n_simulations, n_steps, h))\n",
    "    adjoints = defaultdict(int)\n",
    "    \n",
    "    adjoints[\"S_\"] = (Price_Barrier_Option(S0 +h, K, T, r, sigma,B,n_simulations, n_steps, h) - Price_Barrier_Option(S0, K, T, r, sigma,B,n_simulations, n_steps, h)) / h\n",
    "    adjoints[\"K_\"] = (Price_Barrier_Option(S0 , K+h, T, r, sigma,B,n_simulations, n_steps, h) - Price_Barrier_Option(S0, K, T, r, sigma,B,n_simulations, n_steps, h)) / h\n",
    "    adjoints[\"T_\"] = (Price_Barrier_Option(S0, K, T+h, r, sigma,B,n_simulations, n_steps, h) - Price_Barrier_Option(S0, K, T, r, sigma,B,n_simulations, n_steps, h)) / h\n",
    "    adjoints[\"r_\"] = (Price_Barrier_Option(S0 , K, T, r+h, sigma,B,n_simulations, n_steps, h) - Price_Barrier_Option(S0, K, T, r, sigma,B,n_simulations, n_steps, h)) / h\n",
    "    adjoints[\"sigma_\"] = (Price_Barrier_Option(S0 , K, T, r, sigma+h,B,n_simulations, n_steps, h) - Price_Barrier_Option(S0, K, T, r, sigma,B,n_simulations, n_steps, h)) / h\n",
    "    return adjoints\n"
   ]
  },
  {
   "cell_type": "code",
   "execution_count": 473,
   "metadata": {},
   "outputs": [
    {
     "name": "stdout",
     "output_type": "stream",
     "text": [
      "0.013591924863883111\n",
      "defaultdict(<class 'int'>, {'S_': 0.028124316997675536, 'K_': -0.003378156505466634, 'T_': 0.6575909235474221, 'r_': 0.027971294608748754, 'sigma_': 0.2665709361583494})\n",
      "--- 7.583154916763306 seconds ---\n"
     ]
    }
   ],
   "source": [
    "start_time = time.time()\n",
    "\n",
    "print(finite_difference_MC_Barrier(S0, K, T, r, sigma,B, n_simulations, n_steps))\n",
    "\n",
    "print(\"--- %s seconds ---\" % (time.time() - start_time))"
   ]
  },
  {
   "cell_type": "markdown",
   "metadata": {},
   "source": [
    "## Barrier Down and Out"
   ]
  },
  {
   "cell_type": "markdown",
   "metadata": {},
   "source": [
    "### Finite difference ved Monte Carlo"
   ]
  },
  {
   "cell_type": "code",
   "execution_count": 494,
   "metadata": {},
   "outputs": [],
   "source": [
    "S0 = 12.418\n",
    "K = 13.55\n",
    "T = 1/12\n",
    "r = 0.01606\n",
    "sigma = 0.4075\n",
    "n_simulations = 10000000\n",
    "n_steps = 10\n",
    "B=12"
   ]
  },
  {
   "cell_type": "code",
   "execution_count": 495,
   "metadata": {},
   "outputs": [],
   "source": [
    "def finite_difference_MC_Barrier_D(S0, K, T, r, sigma, B, n_simulations, n_steps, h=0.0001):\n",
    "    # Udvikling i prisen på det underliggende aktiv\n",
    "    timeline = np.arange(0,T,T/n_steps)\n",
    "    Z = np.random.normal(0,1,size=(n_simulations, len(timeline)))\n",
    "    \n",
    "    def Price_Barrier_Option_D(S0, K, T, r,sigma, B, n_simulations, n_steps, h):\n",
    "        dt = T/n_steps\n",
    "        d1 = r - ( sigma **2) / 2\n",
    "        d2 = d1 * dt + sigma * np.sqrt( dt ) * Z\n",
    "        S = np.hstack ([ S0 * np.ones((n_simulations, 1) ) , np.exp( d2 ) ]).cumprod( axis = 1)\n",
    "\n",
    "        max = np.maximum\n",
    "\n",
    "        st = max(np.log(S[:,: -1]/B) , 0)\n",
    "\n",
    "\n",
    "        stp = max( np.log(S[:,1:]/B ) , 0)\n",
    "\n",
    "        p = np . exp ( -2 * st * stp / ( sigma **2 * dt ) )\n",
    "        q = np . prod (1 - p , axis = 1)\n",
    "\n",
    "        P = max (S [: , -1] - K , 0) * q\n",
    "\n",
    "        V = np.mean(np.exp ( - r * T ) * P)\n",
    "         \n",
    "        return V\n",
    "    print(Price_Barrier_Option_D(S0, K, T, r,sigma, B, n_simulations, n_steps, h))\n",
    "    \n",
    "    adjoints = defaultdict(int)\n",
    "    \n",
    "    adjoints[\"S_\"] = (Price_Barrier_Option_D(S0 +h, K, T, r, sigma,B,n_simulations, n_steps, h) - Price_Barrier_Option_D(S0, K, T, r, sigma,B,n_simulations, n_steps, h)) / h\n",
    "    adjoints[\"K_\"] = (Price_Barrier_Option_D(S0 , K+h, T, r, sigma,B,n_simulations, n_steps, h) - Price_Barrier_Option_D(S0, K, T, r, sigma,B,n_simulations, n_steps, h)) / h\n",
    "    adjoints[\"T_\"] = (Price_Barrier_Option_D(S0, K, T+h, r, sigma,B,n_simulations, n_steps, h) - Price_Barrier_Option_D(S0, K, T, r, sigma,B,n_simulations, n_steps, h)) / h\n",
    "    adjoints[\"r_\"] = (Price_Barrier_Option_D(S0 , K, T, r+h, sigma,B,n_simulations, n_steps, h) - Price_Barrier_Option_D(S0, K, T, r, sigma,B,n_simulations, n_steps, h)) / h\n",
    "    adjoints[\"sigma_\"] = (Price_Barrier_Option_D(S0 , K, T, r, sigma+h,B,n_simulations, n_steps, h) - Price_Barrier_Option_D(S0, K, T, r, sigma,B,n_simulations, n_steps, h)) / h\n",
    "    return adjoints\n",
    "\n"
   ]
  },
  {
   "cell_type": "code",
   "execution_count": 496,
   "metadata": {},
   "outputs": [
    {
     "name": "stdout",
     "output_type": "stream",
     "text": [
      "0.13933584588139827\n",
      "defaultdict(<class 'int'>, {'S_': 0.3469903625222259, 'K_': -0.127171392179104, 'T_': 1.285483894085948, 'r_': 0.17124386588268647, 'sigma_': 0.5124962681174461})\n",
      "--- 200.0834550857544 seconds ---\n"
     ]
    }
   ],
   "source": [
    "start_time = time.time()\n",
    "\n",
    "print(finite_difference_MC_Barrier_D(S0, K, T, r, sigma,B, n_simulations, n_steps))\n",
    "\n",
    "print(\"--- %s seconds ---\" % (time.time() - start_time))"
   ]
  },
  {
   "cell_type": "code",
   "execution_count": null,
   "metadata": {},
   "outputs": [],
   "source": []
  }
 ],
 "metadata": {
  "kernelspec": {
   "display_name": "Python 3",
   "language": "python",
   "name": "python3"
  },
  "language_info": {
   "codemirror_mode": {
    "name": "ipython",
    "version": 3
   },
   "file_extension": ".py",
   "mimetype": "text/x-python",
   "name": "python",
   "nbconvert_exporter": "python",
   "pygments_lexer": "ipython3",
   "version": "3.7.6"
  }
 },
 "nbformat": 4,
 "nbformat_minor": 4
}
